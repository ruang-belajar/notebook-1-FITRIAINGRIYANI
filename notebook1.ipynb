{
  "nbformat": 4,
  "nbformat_minor": 0,
  "metadata": {
    "colab": {
      "provenance": [],
      "toc_visible": true,
      "include_colab_link": true
    },
    "kernelspec": {
      "name": "python3",
      "display_name": "Python 3"
    },
    "language_info": {
      "name": "python"
    }
  },
  "cells": [
    {
      "cell_type": "markdown",
      "metadata": {
        "id": "view-in-github",
        "colab_type": "text"
      },
      "source": [
        "<a href=\"https://colab.research.google.com/github/ruang-belajar/notebook-1-FITRIAINGRIYANI/blob/main/notebook1.ipynb\" target=\"_parent\"><img src=\"https://colab.research.google.com/assets/colab-badge.svg\" alt=\"Open In Colab\"/></a>"
      ]
    },
    {
      "cell_type": "markdown",
      "source": [
        "# [judul]\n",
        "* Nama : Fitria Ingriyani\n",
        "* NIM :  22020125"
      ],
      "metadata": {
        "id": "SOTwCKLPjXe4"
      }
    },
    {
      "cell_type": "markdown",
      "source": [
        "#### Filter kejadian kebakaran yang terjadi di bulan Maret\n"
      ],
      "metadata": {
        "id": "FLR-BM5xT-FJ"
      }
    },
    {
      "cell_type": "code",
      "source": [
        "df1 = df[df.bulan==3]\n",
        "df1"
      ],
      "metadata": {
        "id": "b6MUQO3TUIdl"
      },
      "execution_count": null,
      "outputs": []
    },
    {
      "cell_type": "markdown",
      "source": [
        "#### Filter kejadian kebakaran yang nilai kerugiannya antara 50jt sampai 100jt\n"
      ],
      "metadata": {
        "id": "rurb6GI-ULbY"
      }
    },
    {
      "cell_type": "code",
      "source": [
        "df2 = df[(df.kerugian >= 50000000) & (df.kerugian <= 100000000)]\n",
        "df2\n"
      ],
      "metadata": {
        "id": "3uZgk2DjURnY"
      },
      "execution_count": null,
      "outputs": []
    },
    {
      "cell_type": "markdown",
      "source": [
        " #### Tampilkan/Filter 5 kejadian yang tingkat kerugiannya paling besar\n"
      ],
      "metadata": {
        "id": "Ko3fZWWUUS0d"
      }
    },
    {
      "cell_type": "code",
      "source": [
        "df3 = df.sort_values(by='kerugian', ascending=False).head(5)\n",
        "df3\n"
      ],
      "metadata": {
        "id": "LH6h0co8UZAI"
      },
      "execution_count": null,
      "outputs": []
    },
    {
      "cell_type": "markdown",
      "source": [
        "#### Menggunakan groupby dan count, hitung banyaknya kejadian kebakaran per bulan\n"
      ],
      "metadata": {
        "id": "hAlNefIkUaoL"
      }
    },
    {
      "cell_type": "code",
      "source": [
        "df4 = df.groupby('bulan').count()['keterangan']\n",
        "df4\n"
      ],
      "metadata": {
        "id": "VXl6HJPPUhJx"
      },
      "execution_count": null,
      "outputs": []
    },
    {
      "cell_type": "markdown",
      "source": [
        "#### Menggunakan groupby dan sum, hitung jumlah kerugian akibat kebakaran per bulan\n"
      ],
      "metadata": {
        "id": "2qcjGCCGUhuS"
      }
    },
    {
      "cell_type": "code",
      "source": [
        "df5 = df.groupby('bulan')['kerugian'].sum()\n",
        "df5\n"
      ],
      "metadata": {
        "id": "eYH4-GzAUmXt"
      },
      "execution_count": null,
      "outputs": []
    },
    {
      "cell_type": "markdown",
      "source": [
        "#### Menggunakan gruppby dan mean, hitung rata-rata kerugian akibat kebakaran per bulan\n"
      ],
      "metadata": {
        "id": "J-lM4rVoUm0j"
      }
    },
    {
      "cell_type": "code",
      "source": [
        "df6 = df.groupby('bulan')['kerugian'].mean()\n",
        "df6\n"
      ],
      "metadata": {
        "id": "pgIakZ31UrZ3"
      },
      "execution_count": null,
      "outputs": []
    },
    {
      "cell_type": "markdown",
      "source": [
        "#### Hitung banyaknya kejadian kebakaran yang disebabkan Listrik per bulan\n"
      ],
      "metadata": {
        "id": "_6KRs9fjUr1l"
      }
    },
    {
      "cell_type": "code",
      "source": [
        "df7 = df[df.penyebab == 'Listrik'].groupby('bulan')['penyebab'].count()\n",
        "df7"
      ],
      "metadata": {
        "id": "EMPs_B-oUx6P"
      },
      "execution_count": null,
      "outputs": []
    },
    {
      "cell_type": "markdown",
      "source": [
        "#### Hitung jumlah kerugian akibat kebakaran yang terjadi di kelurahan Kemayoran"
      ],
      "metadata": {
        "id": "wUUkT7m3Uybl"
      }
    },
    {
      "cell_type": "code",
      "source": [
        "df8 = df[df.kelurahan == 'Kemayoran']['kerugian'].sum()\n",
        "df8\n"
      ],
      "metadata": {
        "id": "8OxmLkG3U9fM"
      },
      "execution_count": null,
      "outputs": []
    },
    {
      "cell_type": "markdown",
      "source": [
        "#### Hitung rata-rata kerugian akibat kebakaran yang terjadi di bulan Juni dan Juli,  di Pasar Rebo"
      ],
      "metadata": {
        "id": "w_mHDkDlU-CC"
      }
    },
    {
      "cell_type": "code",
      "source": [
        "df9 = df[(df.bulan.isin([6, 7])) & (df.kecamatan == 'Pasar Rebo')]['kerugian'].mean()\n",
        "df9\n"
      ],
      "metadata": {
        "id": "uhoAtfUfVCeS"
      },
      "execution_count": null,
      "outputs": []
    },
    {
      "cell_type": "markdown",
      "source": [
        "#### Menggunakan fungsi max, tampilkan nilai kerugian paling besar dari kejadian kebakaran per kelurahan.\n",
        "\n"
      ],
      "metadata": {
        "id": "yHtw-OwbVDEE"
      }
    },
    {
      "cell_type": "code",
      "source": [
        "kerugian_terbesar = df.groupby('kelurahan')['kerugian'].max()\n",
        "kerugian_terbesar"
      ],
      "metadata": {
        "id": "mveyBnHKVHMM"
      },
      "execution_count": null,
      "outputs": []
    },
    {
      "cell_type": "code",
      "execution_count": null,
      "metadata": {
        "id": "MFCMGmiLjN-4"
      },
      "outputs": [],
      "source": [
        "\n",
        "# PERSIAPAN DATA\n",
        "\n",
        "# download file contoh csv\n",
        "!wget https://raw.githubusercontent.com/ruang-belajar/python/master/notebook/data/2013-data-kebakaran.csv -O data-kebakaran.csv\n",
        "\n",
        "\n",
        "import pandas as pd\n",
        "\n",
        "# load data ke dataframe (df)\n",
        "df = pd.read_csv(\"data-kebakaran.csv\")\n",
        "df.head()\n"
      ]
    }
  ]
}